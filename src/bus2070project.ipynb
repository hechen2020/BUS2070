{
  "nbformat": 4,
  "nbformat_minor": 0,
  "metadata": {
    "colab": {
      "name": "bus2070project.ipynb",
      "version": "0.3.2",
      "provenance": [],
      "include_colab_link": true
    },
    "kernelspec": {
      "name": "python3",
      "display_name": "Python 3"
    }
  },
  "cells": [
    {
      "cell_type": "markdown",
      "metadata": {
        "id": "view-in-github",
        "colab_type": "text"
      },
      "source": [
        "<a href=\"https://colab.research.google.com/github/hechen2020/BUS2070/blob/master/src/bus2070project.ipynb\" target=\"_parent\"><img src=\"https://colab.research.google.com/assets/colab-badge.svg\" alt=\"Open In Colab\"/></a>"
      ]
    },
    {
      "metadata": {
        "id": "7eFLBnZEj8Fx",
        "colab_type": "code",
        "colab": {
          "base_uri": "https://localhost:8080/",
          "height": 118
        },
        "outputId": "6ec4e283-b9fc-4c8a-c832-ca0221ce77bd"
      },
      "cell_type": "code",
      "source": [
        "!git clone https://github.com/hechen2020/BUS2070.git"
      ],
      "execution_count": 1,
      "outputs": [
        {
          "output_type": "stream",
          "text": [
            "Cloning into 'BUS2070'...\n",
            "remote: Enumerating objects: 22, done.\u001b[K\n",
            "remote: Counting objects: 100% (22/22), done.\u001b[K\n",
            "remote: Compressing objects: 100% (18/18), done.\u001b[K\n",
            "remote: Total 22 (delta 2), reused 0 (delta 0), pack-reused 0\u001b[K\n",
            "Unpacking objects: 100% (22/22), done.\n"
          ],
          "name": "stdout"
        }
      ]
    },
    {
      "metadata": {
        "id": "PXCl4Ewxj8_n",
        "colab_type": "code",
        "colab": {
          "base_uri": "https://localhost:8080/",
          "height": 34
        },
        "outputId": "fab70e5b-06a1-4fc4-bd5b-6d7fef7de0ac"
      },
      "cell_type": "code",
      "source": [
        "cd ./BUS2070/src/"
      ],
      "execution_count": 2,
      "outputs": [
        {
          "output_type": "stream",
          "text": [
            "/content/BUS2070/src\n"
          ],
          "name": "stdout"
        }
      ]
    },
    {
      "metadata": {
        "id": "kiqSxNPEhfNY",
        "colab_type": "code",
        "colab": {}
      },
      "cell_type": "code",
      "source": [
        "import array\n",
        "import numpy as np\n",
        "import matplotlib.pyplot as plt\n",
        "import scipy.optimize as so\n",
        "import scipy.stats as ss"
      ],
      "execution_count": 0,
      "outputs": []
    },
    {
      "metadata": {
        "id": "mwkyGFnEi8t-",
        "colab_type": "text"
      },
      "cell_type": "markdown",
      "source": [
        "###European call pricing formula\n",
        "$$C_0=S_0N(d_1)-Ke^{-rT}N(d_2)$$\n",
        "\n",
        "where\n",
        "\n",
        "$$d_1 = \\frac{ln(S_0/K)+(r+\\sigma^2/2)T}{\\sigma \\sqrt{T}}$$\n",
        "\n",
        "$$d_2 = \\frac{ln(S_0/K)+(r-\\sigma^2/2)T}{\\sigma \\sqrt{T}} = d_1 - \\sigma\\sqrt{T}$$"
      ]
    },
    {
      "metadata": {
        "id": "r20CpS6NhiJR",
        "colab_type": "code",
        "colab": {}
      },
      "cell_type": "code",
      "source": [
        "'''=========\n",
        "option class init\n",
        "=========='''\n",
        "class VanillaOption:\n",
        "    def __init__(\n",
        "        self,\n",
        "        otype = 1, # 1: 'call'\n",
        "                  # -1: 'put'\n",
        "        strike = 110.,\n",
        "        maturity = 1.,\n",
        "        market_price = 10.):\n",
        "      self.otype = otype\n",
        "      self.strike = strike\n",
        "      self.maturity = maturity\n",
        "      self.market_price = market_price #this will be used for calibration\n",
        "      \n",
        "        \n",
        "    def payoff(self, s): #s: excercise price\n",
        "      otype = self.otype\n",
        "      k = self.strike\n",
        "      maturity = self.maturity\n",
        "      return np.max([0, (s - k)*otype])"
      ],
      "execution_count": 0,
      "outputs": []
    },
    {
      "metadata": {
        "id": "KDSH67wJiEMm",
        "colab_type": "code",
        "colab": {}
      },
      "cell_type": "code",
      "source": [
        "'''============\n",
        "Gbm class inherited from sde_1d\n",
        "============='''\n",
        "\n",
        "class Gbm:\n",
        "    def __init__(self,\n",
        "                 init_state = 100.,\n",
        "                 drift_ratio = .0475,\n",
        "                 vol_ratio = .2\n",
        "                ):\n",
        "        self.init_state = init_state\n",
        "        self.drift_ratio = drift_ratio\n",
        "        self.vol_ratio = vol_ratio"
      ],
      "execution_count": 0,
      "outputs": []
    },
    {
      "metadata": {
        "id": "9bqJECrbxLIz",
        "colab_type": "code",
        "colab": {}
      },
      "cell_type": "code",
      "source": [
        "'''==============\n",
        "below are from the market data for underlying asset\n",
        "================='''\n",
        "gbm1 = Gbm(\n",
        "    init_state = 344.83, #market price for ULTA stock\n",
        "    drift_ratio = 0.0260100, #3-month LIBOR rate as of April 12th\n",
        "    vol_ratio = .2 #initial guess of volatility: this will change once we calculate implied volatility\n",
        ")"
      ],
      "execution_count": 0,
      "outputs": []
    },
    {
      "metadata": {
        "id": "UmOOJ3KMiHLI",
        "colab_type": "code",
        "colab": {}
      },
      "cell_type": "code",
      "source": [
        "'''========\n",
        "Black-Scholes-Merton formula. \n",
        "=========='''\n",
        "\n",
        "def bsm_price(gbm, vanilla_option):\n",
        "    s0 = gbm.init_state\n",
        "    sigma = gbm.vol_ratio\n",
        "    r = gbm.drift_ratio\n",
        "    \n",
        "    otype = vanilla_option.otype\n",
        "    k = vanilla_option.strike\n",
        "    maturity = vanilla_option.maturity\n",
        "    \n",
        "    d1 = (np.log(s0 / k) + (r + 0.5 * sigma ** 2) \n",
        "          * maturity) / (sigma * np.sqrt(maturity))\n",
        "    d2 = d1 - sigma * np.sqrt(maturity)\n",
        "    \n",
        "    return (otype * s0 * ss.norm.cdf(otype * d1)\n",
        "            - otype * np.exp(-r * maturity) * k * ss.norm.cdf(otype * d2))"
      ],
      "execution_count": 0,
      "outputs": []
    },
    {
      "metadata": {
        "id": "twrufCF1x9h6",
        "colab_type": "code",
        "colab": {}
      },
      "cell_type": "code",
      "source": [
        "'''==========\n",
        "define a method for error function\n",
        "============'''\n",
        "\n",
        "def error_function(vol, gbm, option):\n",
        "  gbm.vol_ratio = vol\n",
        "  return np.abs(option.market_price - bsm_price(gbm, option))\n",
        "\n",
        "'''==========\n",
        "define a method to seek for an implied volatility by minimizing errors\n",
        "============'''\n",
        "\n",
        "def implied_volatility(gbm, option):\n",
        "  init_vol = .2 #initial guess\n",
        "  return so.fmin(error_function, init_vol, args = (gbm, option), disp = 0)[0]\n",
        "\n",
        "'''==========\n",
        "define a method to seek for a calibrated volatility\n",
        "============'''\n",
        "\n",
        "def bsm_calibration(gbm, option_list):\n",
        "  init_vol = .1 #initial guess\n",
        "  return so.fmin(error_function, init_vol, \n",
        "                 args = (gbm, option_list[i]), disp = 0)[0]"
      ],
      "execution_count": 0,
      "outputs": []
    },
    {
      "metadata": {
        "id": "sJJSD0r2nt_G",
        "colab_type": "text"
      },
      "cell_type": "markdown",
      "source": [
        "**First set of data: maturity on 04/18/2019**"
      ]
    },
    {
      "metadata": {
        "id": "xgKbwfs8wnWA",
        "colab_type": "code",
        "colab": {
          "base_uri": "https://localhost:8080/",
          "height": 34
        },
        "outputId": "3c1204ed-3342-40b1-9f1e-bbb62174df2f"
      },
      "cell_type": "code",
      "source": [
        "'''=========\n",
        "Time length: maturity time as a percentage of year\n",
        "============='''\n",
        "#record initial time t0\n",
        "today = np.datetime64('2019-04-13')\n",
        "#record maturity of the set of options\n",
        "maturity = np.datetime64('2019-04-18')\n",
        "#calculate the number of days to maturity\n",
        "time_to_maturity_days = maturity - today\n",
        "#calculate the maturity time as a percentage of year\n",
        "time_to_maturity_years = time_to_maturity_days/np.timedelta64(1,'D')/365\n",
        "print('--->>>>>time to maturity in years is ' + str(time_to_maturity_years))"
      ],
      "execution_count": 9,
      "outputs": [
        {
          "output_type": "stream",
          "text": [
            "--->>>>>time to maturity in years is 0.0136986301369863\n"
          ],
          "name": "stdout"
        }
      ]
    },
    {
      "metadata": {
        "id": "ipZrmCyIiJqk",
        "colab_type": "code",
        "colab": {
          "base_uri": "https://localhost:8080/",
          "height": 370
        },
        "outputId": "a072052a-79dc-47af-9381-b2e8ad1ca1e9"
      },
      "cell_type": "code",
      "source": [
        "'''======\n",
        "Read data\n",
        "========='''\n",
        "#Read four-column data\n",
        "#columns are otype, maturity, strike, option_price\n",
        "\n",
        "#call options\n",
        "np_option_data1 = np.loadtxt('0418_data.dat', comments='#', delimiter=',')\n",
        "\n",
        "print('>>>>>>option_type, maturity, strike, option_price')\n",
        "print(np_option_data1)"
      ],
      "execution_count": 10,
      "outputs": [
        {
          "output_type": "stream",
          "text": [
            ">>>>>>option_type, maturity, strike, option_price\n",
            "[[1.00000000e+00 1.36986301e-02 3.10000000e+02 3.99300000e+01]\n",
            " [1.00000000e+00 1.36986301e-02 3.15000000e+02 3.49000000e+01]\n",
            " [1.00000000e+00 1.36986301e-02 3.20000000e+02 2.50000000e+01]\n",
            " [1.00000000e+00 1.36986301e-02 3.22500000e+02 2.34000000e+01]\n",
            " [1.00000000e+00 1.36986301e-02 3.25000000e+02 2.32000000e+01]\n",
            " [1.00000000e+00 1.36986301e-02 3.27500000e+02 2.41000000e+01]\n",
            " [1.00000000e+00 1.36986301e-02 3.30000000e+02 1.69800000e+01]\n",
            " [1.00000000e+00 1.36986301e-02 3.32500000e+02 2.05000000e+01]\n",
            " [1.00000000e+00 1.36986301e-02 3.35000000e+02 1.34300000e+01]\n",
            " [1.00000000e+00 1.36986301e-02 3.40000000e+02 6.46000000e+00]\n",
            " [1.00000000e+00 1.36986301e-02 3.45000000e+02 3.43000000e+00]\n",
            " [1.00000000e+00 1.36986301e-02 3.50000000e+02 1.58000000e+00]\n",
            " [1.00000000e+00 1.36986301e-02 3.52500000e+02 1.05000000e+00]\n",
            " [1.00000000e+00 1.36986301e-02 3.55000000e+02 7.30000000e-01]\n",
            " [1.00000000e+00 1.36986301e-02 3.57500000e+02 3.40000000e-01]\n",
            " [1.00000000e+00 1.36986301e-02 3.60000000e+02 2.00000000e-01]\n",
            " [1.00000000e+00 1.36986301e-02 3.62500000e+02 2.80000000e-01]\n",
            " [1.00000000e+00 1.36986301e-02 3.65000000e+02 1.30000000e-01]\n",
            " [1.00000000e+00 1.36986301e-02 3.70000000e+02 3.00000000e-02]\n",
            " [1.00000000e+00 1.36986301e-02 3.75000000e+02 3.00000000e-02]]\n"
          ],
          "name": "stdout"
        }
      ]
    },
    {
      "metadata": {
        "id": "WZQAwpHFxowh",
        "colab_type": "code",
        "colab": {}
      },
      "cell_type": "code",
      "source": [
        "num_row = np_option_data1.shape[0]\n",
        "option_list1 = []\n",
        "\n",
        "for i in range(num_row):\n",
        "    optioni = VanillaOption(\n",
        "        otype = np_option_data1[i,0],\n",
        "        maturity = np_option_data1[i,1],\n",
        "        strike = np_option_data1[i,2],\n",
        "        market_price = np_option_data1[i,3]\n",
        "    )\n",
        "    option_list1.append(optioni)"
      ],
      "execution_count": 0,
      "outputs": []
    },
    {
      "metadata": {
        "id": "IZjaNp08yBj8",
        "colab_type": "code",
        "colab": {
          "base_uri": "https://localhost:8080/",
          "height": 706
        },
        "outputId": "9fc764b4-e1af-41e6-d39d-aa75cf68e10f"
      },
      "cell_type": "code",
      "source": [
        "#add a column to the matrix for option data in place for implied volatility\n",
        "np_option_data12 = np.append(np_option_data1, np.zeros([num_row,1]), axis = 1)\n",
        "\n",
        "#compute implied volatilities and add them into the last column\n",
        "for i in range(num_row):\n",
        "  np_option_data12[i,4] = implied_volatility(gbm1, option_list1[i])\n",
        "  \n",
        "print('>>>>>>otype, maturity, strike, option_price, implied vol')\n",
        "print(np_option_data12)"
      ],
      "execution_count": 12,
      "outputs": [
        {
          "output_type": "stream",
          "text": [
            ">>>>>>otype, maturity, strike, option_price, implied vol\n",
            "[[1.00000000e+00 1.36986301e-02 3.10000000e+02 3.99300000e+01\n",
            "  1.11816406e+00]\n",
            " [1.00000000e+00 1.36986301e-02 3.15000000e+02 3.49000000e+01\n",
            "  1.01121094e+00]\n",
            " [1.00000000e+00 1.36986301e-02 3.20000000e+02 2.50000000e+01\n",
            "  2.92031250e-01]\n",
            " [1.00000000e+00 1.36986301e-02 3.22500000e+02 2.34000000e+01\n",
            "  4.66582031e-01]\n",
            " [1.00000000e+00 1.36986301e-02 3.25000000e+02 2.32000000e+01\n",
            "  6.58925781e-01]\n",
            " [1.00000000e+00 1.36986301e-02 3.27500000e+02 2.41000000e+01\n",
            "  8.69609375e-01]\n",
            " [1.00000000e+00 1.36986301e-02 3.30000000e+02 1.69800000e+01\n",
            "  4.54453125e-01]\n",
            " [1.00000000e+00 1.36986301e-02 3.32500000e+02 2.05000000e+01\n",
            "  8.45664063e-01]\n",
            " [1.00000000e+00 1.36986301e-02 3.35000000e+02 1.34300000e+01\n",
            "  4.67558594e-01]\n",
            " [1.00000000e+00 1.36986301e-02 3.40000000e+02 6.46000000e+00\n",
            "  2.14609375e-01]\n",
            " [1.00000000e+00 1.36986301e-02 3.45000000e+02 3.43000000e+00\n",
            "  2.14472656e-01]\n",
            " [1.00000000e+00 1.36986301e-02 3.50000000e+02 1.58000000e+00\n",
            "  2.18671875e-01]\n",
            " [1.00000000e+00 1.36986301e-02 3.52500000e+02 1.05000000e+00\n",
            "  2.24023438e-01]\n",
            " [1.00000000e+00 1.36986301e-02 3.55000000e+02 7.30000000e-01\n",
            "  2.34277344e-01]\n",
            " [1.00000000e+00 1.36986301e-02 3.57500000e+02 3.40000000e-01\n",
            "  2.19882813e-01]\n",
            " [1.00000000e+00 1.36986301e-02 3.60000000e+02 2.00000000e-01\n",
            "  2.23828125e-01]\n",
            " [1.00000000e+00 1.36986301e-02 3.62500000e+02 2.80000000e-01\n",
            "  2.70312500e-01]\n",
            " [1.00000000e+00 1.36986301e-02 3.65000000e+02 1.30000000e-01\n",
            "  2.58828125e-01]\n",
            " [1.00000000e+00 1.36986301e-02 3.70000000e+02 3.00000000e-02\n",
            "  2.51250000e-01]\n",
            " [1.00000000e+00 1.36986301e-02 3.75000000e+02 3.00000000e-02\n",
            "  2.92890625e-01]]\n"
          ],
          "name": "stdout"
        }
      ]
    },
    {
      "metadata": {
        "id": "HCinganGydgP",
        "colab_type": "code",
        "colab": {
          "base_uri": "https://localhost:8080/",
          "height": 283
        },
        "outputId": "2472e6fc-f8b5-4d7a-96cc-410be31b2b67"
      },
      "cell_type": "code",
      "source": [
        "plt.plot(np_option_data12[:,2], np_option_data12[:,4], label = 'implied volatility')\n",
        "plt.ylabel('implied vol')\n",
        "plt.xlabel('strike')\n",
        "plt.legend();"
      ],
      "execution_count": 13,
      "outputs": [
        {
          "output_type": "display_data",
          "data": {
            "image/png": "[encoded data removed]",
            "text/plain": [
              "<Figure size 432x288 with 1 Axes>"
            ]
          },
          "metadata": {
            "tags": []
          }
        }
      ]
    },
    {
      "metadata": {
        "id": "RV5fuVORlO4S",
        "colab_type": "code",
        "colab": {
          "base_uri": "https://localhost:8080/",
          "height": 34
        },
        "outputId": "322c7241-744d-4a7d-bd5f-feb5021cc9fa"
      },
      "cell_type": "code",
      "source": [
        "calibrated_volatility1 = bsm_calibration(gbm1,option_list1)\n",
        "print('>>>>>>>> calibrated volatility for call is ' + str(calibrated_volatility1))"
      ],
      "execution_count": 14,
      "outputs": [
        {
          "output_type": "stream",
          "text": [
            ">>>>>>>> calibrated volatility for call is 0.29289062500000074\n"
          ],
          "name": "stdout"
        }
      ]
    },
    {
      "metadata": {
        "id": "79cAGrXrl5TJ",
        "colab_type": "code",
        "colab": {
          "base_uri": "https://localhost:8080/",
          "height": 370
        },
        "outputId": "2fbe4e97-f254-44d8-e636-b6e5b6471586"
      },
      "cell_type": "code",
      "source": [
        "gbm1.vol_ratio = calibrated_volatility1\n",
        "\n",
        "#find calibrated option price\n",
        "option_list1_calibrated_price = [bsm_price(gbm1,option_list1[i]) for i in range(len(option_list1))]\n",
        "print('>>>>>>>>> this is option price calculated from calibrated vol')\n",
        "option_list1_calibrated_price"
      ],
      "execution_count": 15,
      "outputs": [
        {
          "output_type": "stream",
          "text": [
            ">>>>>>>>> this is option price calculated from calibrated vol\n"
          ],
          "name": "stdout"
        },
        {
          "output_type": "execute_result",
          "data": {
            "text/plain": [
              "[34.94325382974239,\n",
              " 29.956310157340567,\n",
              " 25.001170700225146,\n",
              " 22.55187042948171,\n",
              " 20.136870685736994,\n",
              " 17.77313414218179,\n",
              " 15.482076920799898,\n",
              " 13.28888288760811,\n",
              " 11.220980124168648,\n",
              " 7.567836316602467,\n",
              " 4.692420544207408,\n",
              " 2.647550625904401,\n",
              " 1.9146066708816107,\n",
              " 1.34851126039338,\n",
              " 0.9244774566690808,\n",
              " 0.6165801656353906,\n",
              " 0.3999187954316561,\n",
              " 0.2521902509900862,\n",
              " 0.09211096201555335,\n",
              " 0.030031589785815438]"
            ]
          },
          "metadata": {
            "tags": []
          },
          "execution_count": 15
        }
      ]
    },
    {
      "metadata": {
        "id": "zRAyLc5el_qX",
        "colab_type": "code",
        "colab": {
          "base_uri": "https://localhost:8080/",
          "height": 283
        },
        "outputId": "e1c1fb9e-dd44-404b-bfda-3c5c699f94d9"
      },
      "cell_type": "code",
      "source": [
        "x_co = [option_list1[i].strike for i in range(len(option_list1))]\n",
        "y_co = [option_list1[i].market_price for i in range(len(option_list1))]\n",
        "plt.plot(x_co, y_co, label='market price')#not using 'o' here for observation purpose\n",
        "\n",
        "y_co = option_list1_calibrated_price\n",
        "plt.plot(x_co, y_co, label = 'calib price')\n",
        "\n",
        "plt.ylabel('option price')\n",
        "plt.xlabel('strike with fixed maturity')\n",
        "plt.legend();"
      ],
      "execution_count": 16,
      "outputs": [
        {
          "output_type": "display_data",
          "data": {
            "image/png": "[encoded data removed]",
            "text/plain": [
              "<Figure size 432x288 with 1 Axes>"
            ]
          },
          "metadata": {
            "tags": []
          }
        }
      ]
    },
    {
      "metadata": {
        "id": "ORNqylfnn8tE",
        "colab_type": "text"
      },
      "cell_type": "markdown",
      "source": [
        "**Second set of data: maturity on 04/26/2019**"
      ]
    },
    {
      "metadata": {
        "id": "G4y_03H2mFlP",
        "colab_type": "code",
        "colab": {
          "base_uri": "https://localhost:8080/",
          "height": 34
        },
        "outputId": "07a9c18b-5ba8-4aa7-b38c-8670ec5431aa"
      },
      "cell_type": "code",
      "source": [
        "'''=========\n",
        "Time length: maturity time as a percentage of year\n",
        "============='''\n",
        "#record initial time t0\n",
        "today = np.datetime64('2019-04-13')\n",
        "#record maturity of the set of options\n",
        "maturity = np.datetime64('2019-04-26')\n",
        "#calculate the number of days to maturity\n",
        "time_to_maturity_days = maturity - today\n",
        "#calculate the maturity time as a percentage of year\n",
        "time_to_maturity_years = time_to_maturity_days/np.timedelta64(1,'D')/365\n",
        "print('--->>>>>time to maturity in years is ' + str(time_to_maturity_years))"
      ],
      "execution_count": 17,
      "outputs": [
        {
          "output_type": "stream",
          "text": [
            "--->>>>>time to maturity in years is 0.03561643835616438\n"
          ],
          "name": "stdout"
        }
      ]
    },
    {
      "metadata": {
        "id": "jvfVObOhoEsV",
        "colab_type": "code",
        "colab": {
          "base_uri": "https://localhost:8080/",
          "height": 370
        },
        "outputId": "d4f741ef-243c-4119-bf22-843e6a7c1674"
      },
      "cell_type": "code",
      "source": [
        "'''======\n",
        "Read data\n",
        "========='''\n",
        "#Read four-column data\n",
        "#columns are otype, maturity, strike, option_price\n",
        "\n",
        "#call options\n",
        "np_option_data2 = np.loadtxt('0426_data.dat', comments='#', delimiter=',')\n",
        "\n",
        "print('>>>>>>option_type, maturity, strike, option_price')\n",
        "print(np_option_data2)"
      ],
      "execution_count": 18,
      "outputs": [
        {
          "output_type": "stream",
          "text": [
            ">>>>>>option_type, maturity, strike, option_price\n",
            "[[1.00000000e+00 3.56164384e-02 3.20000000e+02 1.89000000e+01]\n",
            " [1.00000000e+00 3.56164384e-02 3.22500000e+02 2.83000000e+01]\n",
            " [1.00000000e+00 3.56164384e-02 3.25000000e+02 2.17600000e+01]\n",
            " [1.00000000e+00 3.56164384e-02 3.27500000e+02 9.30000000e+00]\n",
            " [1.00000000e+00 3.56164384e-02 3.30000000e+02 2.02000000e+01]\n",
            " [1.00000000e+00 3.56164384e-02 3.32500000e+02 1.74000000e+01]\n",
            " [1.00000000e+00 3.56164384e-02 3.35000000e+02 1.42000000e+01]\n",
            " [1.00000000e+00 3.56164384e-02 3.37500000e+02 1.28800000e+01]\n",
            " [1.00000000e+00 3.56164384e-02 3.40000000e+02 8.90000000e+00]\n",
            " [1.00000000e+00 3.56164384e-02 3.42500000e+02 7.30000000e+00]\n",
            " [1.00000000e+00 3.56164384e-02 3.45000000e+02 7.20000000e+00]\n",
            " [1.00000000e+00 3.56164384e-02 3.47500000e+02 4.50000000e+00]\n",
            " [1.00000000e+00 3.56164384e-02 3.50000000e+02 3.43000000e+00]\n",
            " [1.00000000e+00 3.56164384e-02 3.52500000e+02 2.72000000e+00]\n",
            " [1.00000000e+00 3.56164384e-02 3.55000000e+02 1.90000000e+00]\n",
            " [1.00000000e+00 3.56164384e-02 3.57500000e+02 1.91000000e+00]\n",
            " [1.00000000e+00 3.56164384e-02 3.60000000e+02 1.41000000e+00]\n",
            " [1.00000000e+00 3.56164384e-02 3.62500000e+02 9.80000000e-01]\n",
            " [1.00000000e+00 3.56164384e-02 3.65000000e+02 7.50000000e-01]\n",
            " [1.00000000e+00 3.56164384e-02 3.70000000e+02 2.80000000e-01]]\n"
          ],
          "name": "stdout"
        }
      ]
    },
    {
      "metadata": {
        "id": "pQqGjAUrotXB",
        "colab_type": "code",
        "colab": {}
      },
      "cell_type": "code",
      "source": [
        "num_row = np_option_data2.shape[0]\n",
        "option_list2 = []\n",
        "\n",
        "for i in range(num_row):\n",
        "    optioni = VanillaOption(\n",
        "        otype = np_option_data2[i,0],\n",
        "        maturity = np_option_data2[i,1],\n",
        "        strike = np_option_data2[i,2],\n",
        "        market_price = np_option_data2[i,3]\n",
        "    )\n",
        "    option_list2.append(optioni)"
      ],
      "execution_count": 0,
      "outputs": []
    },
    {
      "metadata": {
        "id": "09Vbc6XRpOv7",
        "colab_type": "code",
        "colab": {
          "base_uri": "https://localhost:8080/",
          "height": 706
        },
        "outputId": "a6058faa-2511-4d18-c2d6-87356d85dcc1"
      },
      "cell_type": "code",
      "source": [
        "#add a column to the matrix for option data in place for implied volatility\n",
        "np_option_data22 = np.append(np_option_data2, np.zeros([num_row,1]), axis = 1)\n",
        "\n",
        "#compute implied volatilities and add them into the last column\n",
        "for i in range(num_row):\n",
        "  np_option_data22[i,4] = implied_volatility(gbm1, option_list2[i])\n",
        "  \n",
        "print('>>>>>>otype, maturity, strike, option_price, implied vol')\n",
        "print(np_option_data22)"
      ],
      "execution_count": 20,
      "outputs": [
        {
          "output_type": "stream",
          "text": [
            ">>>>>>otype, maturity, strike, option_price, implied vol\n",
            "[[1.00000000e+00 3.56164384e-02 3.20000000e+02 1.89000000e+01\n",
            "  2.00000000e-02]\n",
            " [1.00000000e+00 3.56164384e-02 3.22500000e+02 2.83000000e+01\n",
            "  5.66425781e-01]\n",
            " [1.00000000e+00 3.56164384e-02 3.25000000e+02 2.17600000e+01\n",
            "  3.15625000e-01]\n",
            " [1.00000000e+00 3.56164384e-02 3.27500000e+02 9.30000000e+00\n",
            "  2.00000000e-02]\n",
            " [1.00000000e+00 3.56164384e-02 3.30000000e+02 2.02000000e+01\n",
            "  4.34101563e-01]\n",
            " [1.00000000e+00 3.56164384e-02 3.32500000e+02 1.74000000e+01\n",
            "  3.85195313e-01]\n",
            " [1.00000000e+00 3.56164384e-02 3.35000000e+02 1.42000000e+01\n",
            "  3.18496094e-01]\n",
            " [1.00000000e+00 3.56164384e-02 3.37500000e+02 1.28800000e+01\n",
            "  3.31870117e-01]\n",
            " [1.00000000e+00 3.56164384e-02 3.40000000e+02 8.90000000e+00\n",
            "  2.32031250e-01]\n",
            " [1.00000000e+00 3.56164384e-02 3.42500000e+02 7.30000000e+00\n",
            "  2.27451172e-01]\n",
            " [1.00000000e+00 3.56164384e-02 3.45000000e+02 7.20000000e+00\n",
            "  2.74531250e-01]\n",
            " [1.00000000e+00 3.56164384e-02 3.47500000e+02 4.50000000e+00\n",
            "  2.14843750e-01]\n",
            " [1.00000000e+00 3.56164384e-02 3.50000000e+02 3.43000000e+00\n",
            "  2.11054688e-01]\n",
            " [1.00000000e+00 3.56164384e-02 3.52500000e+02 2.72000000e+00\n",
            "  2.15312500e-01]\n",
            " [1.00000000e+00 3.56164384e-02 3.55000000e+02 1.90000000e+00\n",
            "  2.07695313e-01]\n",
            " [1.00000000e+00 3.56164384e-02 3.57500000e+02 1.91000000e+00\n",
            "  2.35791016e-01]\n",
            " [1.00000000e+00 3.56164384e-02 3.60000000e+02 1.41000000e+00\n",
            "  2.33808594e-01]\n",
            " [1.00000000e+00 3.56164384e-02 3.62500000e+02 9.80000000e-01\n",
            "  2.29179688e-01]\n",
            " [1.00000000e+00 3.56164384e-02 3.65000000e+02 7.50000000e-01\n",
            "  2.32734375e-01]\n",
            " [1.00000000e+00 3.56164384e-02 3.70000000e+02 2.80000000e-01\n",
            "  2.18750000e-01]]\n"
          ],
          "name": "stdout"
        }
      ]
    },
    {
      "metadata": {
        "id": "1nkvy_b_pZl6",
        "colab_type": "code",
        "colab": {
          "base_uri": "https://localhost:8080/",
          "height": 283
        },
        "outputId": "fd9d2406-9ddf-46cb-b0ec-69c5d01c5768"
      },
      "cell_type": "code",
      "source": [
        "plt.plot(np_option_data22[:,2], np_option_data22[:,4], label = 'implied volatility')\n",
        "plt.ylabel('implied vol')\n",
        "plt.xlabel('strike')\n",
        "plt.legend();"
      ],
      "execution_count": 21,
      "outputs": [
        {
          "output_type": "display_data",
          "data": {
            "image/png": "[encoded data removed]",
            "text/plain": [
              "<Figure size 432x288 with 1 Axes>"
            ]
          },
          "metadata": {
            "tags": []
          }
        }
      ]
    },
    {
      "metadata": {
        "id": "dSKdJtTXpj6l",
        "colab_type": "code",
        "colab": {
          "base_uri": "https://localhost:8080/",
          "height": 34
        },
        "outputId": "bc12f11c-5837-419b-82c2-c7dc558e5ba2"
      },
      "cell_type": "code",
      "source": [
        "calibrated_volatility2 = bsm_calibration(gbm1,option_list2)\n",
        "print('>>>>>>>> calibrated volatility for call is ' + str(calibrated_volatility2))"
      ],
      "execution_count": 22,
      "outputs": [
        {
          "output_type": "stream",
          "text": [
            ">>>>>>>> calibrated volatility for call is 0.21875000000000042\n"
          ],
          "name": "stdout"
        }
      ]
    },
    {
      "metadata": {
        "id": "voT3MvxfptNq",
        "colab_type": "code",
        "colab": {
          "base_uri": "https://localhost:8080/",
          "height": 370
        },
        "outputId": "da93891a-7021-430a-d7ff-733dc3bfe7d5"
      },
      "cell_type": "code",
      "source": [
        "gbm1.vol_ratio = calibrated_volatility2\n",
        "\n",
        "#find calibrated option price\n",
        "option_list2_calibrated_price = [bsm_price(gbm1,option_list2[i]) for i in range(len(option_list2))]\n",
        "print('>>>>>>>>> this is option price calculated from calibrated vol')\n",
        "option_list2_calibrated_price"
      ],
      "execution_count": 23,
      "outputs": [
        {
          "output_type": "stream",
          "text": [
            ">>>>>>>>> this is option price calculated from calibrated vol\n"
          ],
          "name": "stdout"
        },
        {
          "output_type": "execute_result",
          "data": {
            "text/plain": [
              "[25.306448025617442,\n",
              " 22.916576590658792,\n",
              " 20.57700563328416,\n",
              " 18.303777008924897,\n",
              " 16.114915521702358,\n",
              " 14.029584816440206,\n",
              " 12.06694704021487,\n",
              " 10.244834580993256,\n",
              " 8.578389261051342,\n",
              " 7.078845525300778,\n",
              " 5.7526225899572125,\n",
              " 4.600847341984007,\n",
              " 3.619363965753024,\n",
              " 2.7992120947502315,\n",
              " 2.127488337641168,\n",
              " 1.588459106467397,\n",
              " 1.1647728230636858,\n",
              " 0.8386270555006661,\n",
              " 0.5927753434636998,\n",
              " 0.28012379325149794]"
            ]
          },
          "metadata": {
            "tags": []
          },
          "execution_count": 23
        }
      ]
    },
    {
      "metadata": {
        "id": "PbC-SGeMp3nj",
        "colab_type": "code",
        "colab": {
          "base_uri": "https://localhost:8080/",
          "height": 283
        },
        "outputId": "ed02523c-834c-4830-b10d-8a3a30791f51"
      },
      "cell_type": "code",
      "source": [
        "x_co = [option_list2[i].strike for i in range(len(option_list2))]\n",
        "y_co = [option_list2[i].market_price for i in range(len(option_list2))]\n",
        "plt.plot(x_co, y_co, label='market price')#not using 'o' here for observation purpose\n",
        "\n",
        "y_co = option_list2_calibrated_price\n",
        "plt.plot(x_co, y_co, label = 'calib price')\n",
        "\n",
        "plt.ylabel('option price')\n",
        "plt.xlabel('strike with fixed maturity')\n",
        "plt.legend();"
      ],
      "execution_count": 24,
      "outputs": [
        {
          "output_type": "display_data",
          "data": {
            "image/png": "[encoded data removed]",
            "text/plain": [
              "<Figure size 432x288 with 1 Axes>"
            ]
          },
          "metadata": {
            "tags": []
          }
        }
      ]
    },
    {
      "metadata": {
        "id": "zqc8Hw5sqO-G",
        "colab_type": "text"
      },
      "cell_type": "markdown",
      "source": [
        "**Third set of data: maturity on 05/03/2019**"
      ]
    },
    {
      "metadata": {
        "id": "zN4BBiCZqFEf",
        "colab_type": "code",
        "colab": {
          "base_uri": "https://localhost:8080/",
          "height": 34
        },
        "outputId": "4b44df5e-89e8-4740-9252-2fb5d1d60b5b"
      },
      "cell_type": "code",
      "source": [
        "'''=========\n",
        "Time length: maturity time as a percentage of year\n",
        "============='''\n",
        "#record initial time t0\n",
        "today = np.datetime64('2019-04-13')\n",
        "#record maturity of the set of options\n",
        "maturity = np.datetime64('2019-05-03')\n",
        "#calculate the number of days to maturity\n",
        "time_to_maturity_days = maturity - today\n",
        "#calculate the maturity time as a percentage of year\n",
        "time_to_maturity_years = time_to_maturity_days/np.timedelta64(1,'D')/365\n",
        "print('--->>>>>time to maturity in years is ' + str(time_to_maturity_years))"
      ],
      "execution_count": 25,
      "outputs": [
        {
          "output_type": "stream",
          "text": [
            "--->>>>>time to maturity in years is 0.0547945205479452\n"
          ],
          "name": "stdout"
        }
      ]
    },
    {
      "metadata": {
        "id": "t3qNnMEAqeA6",
        "colab_type": "code",
        "colab": {
          "base_uri": "https://localhost:8080/",
          "height": 269
        },
        "outputId": "f9e50b5d-dfcb-4be9-d659-a5e278de85aa"
      },
      "cell_type": "code",
      "source": [
        "'''======\n",
        "Read data\n",
        "========='''\n",
        "#Read four-column data\n",
        "#columns are otype, maturity, strike, option_price\n",
        "\n",
        "#call options\n",
        "np_option_data3 = np.loadtxt('0503_data.dat', comments='#', delimiter=',')\n",
        "\n",
        "print('>>>>>>option_type, maturity, strike, option_price')\n",
        "print(np_option_data3)"
      ],
      "execution_count": 26,
      "outputs": [
        {
          "output_type": "stream",
          "text": [
            ">>>>>>option_type, maturity, strike, option_price\n",
            "[[1.00000000e+00 5.47945205e-02 3.22500000e+02 2.91000000e+01]\n",
            " [1.00000000e+00 5.47945205e-02 3.27500000e+02 1.72500000e+01]\n",
            " [1.00000000e+00 5.47945205e-02 3.32500000e+02 2.15000000e+01]\n",
            " [1.00000000e+00 5.47945205e-02 3.35000000e+02 1.60000000e+01]\n",
            " [1.00000000e+00 5.47945205e-02 3.37500000e+02 9.50000000e+00]\n",
            " [1.00000000e+00 5.47945205e-02 3.40000000e+02 1.56500000e+01]\n",
            " [1.00000000e+00 5.47945205e-02 3.42500000e+02 1.12000000e+01]\n",
            " [1.00000000e+00 5.47945205e-02 3.45000000e+02 8.10000000e+00]\n",
            " [1.00000000e+00 5.47945205e-02 3.47500000e+02 7.30000000e+00]\n",
            " [1.00000000e+00 5.47945205e-02 3.52500000e+02 4.00000000e+00]\n",
            " [1.00000000e+00 5.47945205e-02 3.57500000e+02 3.16000000e+00]\n",
            " [1.00000000e+00 5.47945205e-02 3.60000000e+02 6.20000000e+00]\n",
            " [1.00000000e+00 5.47945205e-02 3.62500000e+02 2.75000000e+00]\n",
            " [1.00000000e+00 5.47945205e-02 3.65000000e+02 1.65000000e+00]]\n"
          ],
          "name": "stdout"
        }
      ]
    },
    {
      "metadata": {
        "id": "TaFkL8AWqluR",
        "colab_type": "code",
        "colab": {}
      },
      "cell_type": "code",
      "source": [
        "num_row = np_option_data3.shape[0]\n",
        "option_list3 = []\n",
        "\n",
        "for i in range(num_row):\n",
        "    optioni = VanillaOption(\n",
        "        otype = np_option_data3[i,0],\n",
        "        maturity = np_option_data3[i,1],\n",
        "        strike = np_option_data3[i,2],\n",
        "        market_price = np_option_data3[i,3]\n",
        "    )\n",
        "    option_list3.append(optioni)"
      ],
      "execution_count": 0,
      "outputs": []
    },
    {
      "metadata": {
        "id": "k0Xmz6pjqme2",
        "colab_type": "code",
        "colab": {
          "base_uri": "https://localhost:8080/",
          "height": 504
        },
        "outputId": "142f9e69-453d-424a-be0b-0b995bb4efd0"
      },
      "cell_type": "code",
      "source": [
        "#add a column to the matrix for option data in place for implied volatility\n",
        "np_option_data32 = np.append(np_option_data3, np.zeros([num_row,1]), axis = 1)\n",
        "\n",
        "#compute implied volatilities and add them into the last column\n",
        "for i in range(num_row):\n",
        "  np_option_data32[i,4] = implied_volatility(gbm1, option_list3[i])\n",
        "  \n",
        "print('>>>>>>otype, maturity, strike, option_price, implied vol')\n",
        "print(np_option_data32)"
      ],
      "execution_count": 28,
      "outputs": [
        {
          "output_type": "stream",
          "text": [
            ">>>>>>otype, maturity, strike, option_price, implied vol\n",
            "[[1.00000000e+00 5.47945205e-02 3.22500000e+02 2.91000000e+01\n",
            "  4.83383789e-01]\n",
            " [1.00000000e+00 5.47945205e-02 3.27500000e+02 1.72500000e+01\n",
            "  2.00000000e-02]\n",
            " [1.00000000e+00 5.47945205e-02 3.32500000e+02 2.15000000e+01\n",
            "  4.49208984e-01]\n",
            " [1.00000000e+00 5.47945205e-02 3.35000000e+02 1.60000000e+01\n",
            "  3.15786133e-01]\n",
            " [1.00000000e+00 5.47945205e-02 3.37500000e+02 9.50000000e+00\n",
            "  1.43613281e-01]\n",
            " [1.00000000e+00 5.47945205e-02 3.40000000e+02 1.56500000e+01\n",
            "  4.01298828e-01]\n",
            " [1.00000000e+00 5.47945205e-02 3.42500000e+02 1.12000000e+01\n",
            "  3.03339844e-01]\n",
            " [1.00000000e+00 5.47945205e-02 3.45000000e+02 8.10000000e+00\n",
            "  2.46660156e-01]\n",
            " [1.00000000e+00 5.47945205e-02 3.47500000e+02 7.30000000e+00\n",
            "  2.58300781e-01]\n",
            " [1.00000000e+00 5.47945205e-02 3.52500000e+02 4.00000000e+00\n",
            "  2.15439453e-01]\n",
            " [1.00000000e+00 5.47945205e-02 3.57500000e+02 3.16000000e+00\n",
            "  2.37275391e-01]\n",
            " [1.00000000e+00 5.47945205e-02 3.60000000e+02 6.20000000e+00\n",
            "  3.69560547e-01]\n",
            " [1.00000000e+00 5.47945205e-02 3.62500000e+02 2.75000000e+00\n",
            "  2.66445313e-01]\n",
            " [1.00000000e+00 5.47945205e-02 3.65000000e+02 1.65000000e+00\n",
            "  2.37421875e-01]]\n"
          ],
          "name": "stdout"
        }
      ]
    },
    {
      "metadata": {
        "id": "BFgGgrucqqWR",
        "colab_type": "code",
        "colab": {
          "base_uri": "https://localhost:8080/",
          "height": 283
        },
        "outputId": "cdaf0e5c-1007-472e-8bb3-49f25a62063b"
      },
      "cell_type": "code",
      "source": [
        "plt.plot(np_option_data32[:,2], np_option_data32[:,4], label = 'implied volatility')\n",
        "plt.ylabel('implied vol')\n",
        "plt.xlabel('strike')\n",
        "plt.legend();"
      ],
      "execution_count": 29,
      "outputs": [
        {
          "output_type": "display_data",
          "data": {
            "image/png": "[encoded data removed]",
            "text/plain": [
              "<Figure size 432x288 with 1 Axes>"
            ]
          },
          "metadata": {
            "tags": []
          }
        }
      ]
    },
    {
      "metadata": {
        "id": "5ZpYUcWOquSi",
        "colab_type": "code",
        "colab": {
          "base_uri": "https://localhost:8080/",
          "height": 34
        },
        "outputId": "220b6991-454c-4c85-8c67-e3378e38a27b"
      },
      "cell_type": "code",
      "source": [
        "calibrated_volatility3 = bsm_calibration(gbm1,option_list3)\n",
        "print('>>>>>>>> calibrated volatility for call is ' + str(calibrated_volatility3))"
      ],
      "execution_count": 30,
      "outputs": [
        {
          "output_type": "stream",
          "text": [
            ">>>>>>>> calibrated volatility for call is 0.2374218750000005\n"
          ],
          "name": "stdout"
        }
      ]
    },
    {
      "metadata": {
        "id": "smSFUVa8qy4I",
        "colab_type": "code",
        "colab": {
          "base_uri": "https://localhost:8080/",
          "height": 269
        },
        "outputId": "21b234c1-20b5-463b-efb9-6feb19ad4dfd"
      },
      "cell_type": "code",
      "source": [
        "gbm1.vol_ratio = calibrated_volatility3\n",
        "\n",
        "#find calibrated option price\n",
        "option_list3_calibrated_price = [bsm_price(gbm1,option_list3[i]) for i in range(len(option_list3))]\n",
        "print('>>>>>>>>> this is option price calculated from calibrated vol')\n",
        "option_list3_calibrated_price"
      ],
      "execution_count": 31,
      "outputs": [
        {
          "output_type": "stream",
          "text": [
            ">>>>>>>>> this is option price calculated from calibrated vol\n"
          ],
          "name": "stdout"
        },
        {
          "output_type": "execute_result",
          "data": {
            "text/plain": [
              "[23.76520336059872,\n",
              " 19.4937853899508,\n",
              " 15.578222272249207,\n",
              " 13.778885609816484,\n",
              " 12.096334202818866,\n",
              " 10.536902347139744,\n",
              " 9.104948155597441,\n",
              " 7.802675730475613,\n",
              " 6.630069482144961,\n",
              " 4.663088567971911,\n",
              " 3.163820476162968,\n",
              " 2.570409237892008,\n",
              " 2.069000756595372,\n",
              " 1.6499206481664004]"
            ]
          },
          "metadata": {
            "tags": []
          },
          "execution_count": 31
        }
      ]
    },
    {
      "metadata": {
        "id": "hDJHQj9yq2gY",
        "colab_type": "code",
        "colab": {
          "base_uri": "https://localhost:8080/",
          "height": 283
        },
        "outputId": "5e92d19c-176b-4e95-d877-d2598fc59d36"
      },
      "cell_type": "code",
      "source": [
        "x_co = [option_list3[i].strike for i in range(len(option_list3))]\n",
        "y_co = [option_list3[i].market_price for i in range(len(option_list3))]\n",
        "plt.plot(x_co, y_co, label='market price')#not using 'o' here for observation purpose\n",
        "\n",
        "y_co = option_list3_calibrated_price\n",
        "plt.plot(x_co, y_co, label = 'calib price')\n",
        "\n",
        "plt.ylabel('option price')\n",
        "plt.xlabel('strike with fixed maturity')\n",
        "plt.legend();"
      ],
      "execution_count": 32,
      "outputs": [
        {
          "output_type": "display_data",
          "data": {
            "image/png": "[encoded data removed]",
            "text/plain": [
              "<Figure size 432x288 with 1 Axes>"
            ]
          },
          "metadata": {
            "tags": []
          }
        }
      ]
    },
    {
      "metadata": {
        "id": "dkG3h5WwsXib",
        "colab_type": "text"
      },
      "cell_type": "markdown",
      "source": [
        "**Forth set of data: maturity on 05/17/2019**"
      ]
    },
    {
      "metadata": {
        "id": "z2P9Pdb2sd3s",
        "colab_type": "code",
        "colab": {
          "base_uri": "https://localhost:8080/",
          "height": 34
        },
        "outputId": "dffee8d8-9daf-4013-e318-de82000a4c22"
      },
      "cell_type": "code",
      "source": [
        "'''=========\n",
        "Time length: maturity time as a percentage of year\n",
        "============='''\n",
        "#record initial time t0\n",
        "today = np.datetime64('2019-04-13')\n",
        "#record maturity of the set of options\n",
        "maturity = np.datetime64('2019-05-17')\n",
        "#calculate the number of days to maturity\n",
        "time_to_maturity_days = maturity - today\n",
        "#calculate the maturity time as a percentage of year\n",
        "time_to_maturity_years = time_to_maturity_days/np.timedelta64(1,'D')/365\n",
        "print('--->>>>>time to maturity in years is ' + str(time_to_maturity_years))"
      ],
      "execution_count": 33,
      "outputs": [
        {
          "output_type": "stream",
          "text": [
            "--->>>>>time to maturity in years is 0.09315068493150686\n"
          ],
          "name": "stdout"
        }
      ]
    },
    {
      "metadata": {
        "id": "ByjShlZvsh9D",
        "colab_type": "code",
        "colab": {
          "base_uri": "https://localhost:8080/",
          "height": 370
        },
        "outputId": "b92105e6-52ec-4d24-f1ca-253dcbe3c361"
      },
      "cell_type": "code",
      "source": [
        "'''======\n",
        "Read data\n",
        "========='''\n",
        "#Read four-column data\n",
        "#columns are otype, maturity, strike, option_price\n",
        "\n",
        "#call options\n",
        "np_option_data4 = np.loadtxt('0517_data.dat', comments='#', delimiter=',')\n",
        "\n",
        "print('>>>>>>option_type, maturity, strike, option_price')\n",
        "print(np_option_data4)"
      ],
      "execution_count": 34,
      "outputs": [
        {
          "output_type": "stream",
          "text": [
            ">>>>>>option_type, maturity, strike, option_price\n",
            "[[1.00000000e+00 9.31506849e-02 2.90000000e+02 4.54100000e+01]\n",
            " [1.00000000e+00 9.31506849e-02 2.95000000e+02 4.17000000e+01]\n",
            " [1.00000000e+00 9.31506849e-02 3.00000000e+02 5.00000000e+01]\n",
            " [1.00000000e+00 9.31506849e-02 3.10000000e+02 4.10000000e+01]\n",
            " [1.00000000e+00 9.31506849e-02 3.15000000e+02 3.41000000e+01]\n",
            " [1.00000000e+00 9.31506849e-02 3.20000000e+02 3.11000000e+01]\n",
            " [1.00000000e+00 9.31506849e-02 3.25000000e+02 2.75000000e+01]\n",
            " [1.00000000e+00 9.31506849e-02 3.30000000e+02 2.36000000e+01]\n",
            " [1.00000000e+00 9.31506849e-02 3.35000000e+02 2.21800000e+01]\n",
            " [1.00000000e+00 9.31506849e-02 3.40000000e+02 1.51000000e+01]\n",
            " [1.00000000e+00 9.31506849e-02 3.45000000e+02 9.80000000e+00]\n",
            " [1.00000000e+00 9.31506849e-02 3.60000000e+02 3.85000000e+00]\n",
            " [1.00000000e+00 9.31506849e-02 3.65000000e+02 2.65000000e+00]\n",
            " [1.00000000e+00 9.31506849e-02 3.70000000e+02 2.12000000e+00]\n",
            " [1.00000000e+00 9.31506849e-02 3.75000000e+02 1.20000000e+00]\n",
            " [1.00000000e+00 9.31506849e-02 3.80000000e+02 7.80000000e-01]\n",
            " [1.00000000e+00 9.31506849e-02 3.85000000e+02 4.60000000e-01]\n",
            " [1.00000000e+00 9.31506849e-02 3.90000000e+02 3.00000000e-01]\n",
            " [1.00000000e+00 9.31506849e-02 3.95000000e+02 2.20000000e-01]\n",
            " [1.00000000e+00 9.31506849e-02 4.00000000e+02 2.40000000e-01]]\n"
          ],
          "name": "stdout"
        }
      ]
    },
    {
      "metadata": {
        "id": "EgQc8SCZss5T",
        "colab_type": "code",
        "colab": {}
      },
      "cell_type": "code",
      "source": [
        "num_row = np_option_data4.shape[0]\n",
        "option_list4 = []\n",
        "\n",
        "for i in range(num_row):\n",
        "    optioni = VanillaOption(\n",
        "        otype = np_option_data4[i,0],\n",
        "        maturity = np_option_data4[i,1],\n",
        "        strike = np_option_data4[i,2],\n",
        "        market_price = np_option_data4[i,3]\n",
        "    )\n",
        "    option_list4.append(optioni)"
      ],
      "execution_count": 0,
      "outputs": []
    },
    {
      "metadata": {
        "id": "Jx8RdnwXs0df",
        "colab_type": "code",
        "colab": {
          "base_uri": "https://localhost:8080/",
          "height": 706
        },
        "outputId": "a03da360-9c92-41ed-a7a2-5a33a7494734"
      },
      "cell_type": "code",
      "source": [
        "#add a column to the matrix for option data in place for implied volatility\n",
        "np_option_data42 = np.append(np_option_data4, np.zeros([num_row,1]), axis = 1)\n",
        "\n",
        "#compute implied volatilities and add them into the last column\n",
        "for i in range(num_row):\n",
        "  np_option_data42[i,4] = implied_volatility(gbm1, option_list4[i])\n",
        "  \n",
        "print('>>>>>>otype, maturity, strike, option_price, implied vol')\n",
        "print(np_option_data42)"
      ],
      "execution_count": 36,
      "outputs": [
        {
          "output_type": "stream",
          "text": [
            ">>>>>>otype, maturity, strike, option_price, implied vol\n",
            "[[1.00000000e+00 9.31506849e-02 2.90000000e+02 4.54100000e+01\n",
            "  6.00000000e-02]\n",
            " [1.00000000e+00 9.31506849e-02 2.95000000e+02 4.17000000e+01\n",
            "  6.00000000e-02]\n",
            " [1.00000000e+00 9.31506849e-02 3.00000000e+02 5.00000000e+01\n",
            "  4.91328125e-01]\n",
            " [1.00000000e+00 9.31506849e-02 3.10000000e+02 4.10000000e+01\n",
            "  4.48916016e-01]\n",
            " [1.00000000e+00 9.31506849e-02 3.15000000e+02 3.41000000e+01\n",
            "  3.41855469e-01]\n",
            " [1.00000000e+00 9.31506849e-02 3.20000000e+02 3.11000000e+01\n",
            "  3.69799805e-01]\n",
            " [1.00000000e+00 9.31506849e-02 3.25000000e+02 2.75000000e+01\n",
            "  3.68339844e-01]\n",
            " [1.00000000e+00 9.31506849e-02 3.30000000e+02 2.36000000e+01\n",
            "  3.52670898e-01]\n",
            " [1.00000000e+00 9.31506849e-02 3.35000000e+02 2.21800000e+01\n",
            "  3.94824219e-01]\n",
            " [1.00000000e+00 9.31506849e-02 3.40000000e+02 1.51000000e+01\n",
            "  2.89794922e-01]\n",
            " [1.00000000e+00 9.31506849e-02 3.45000000e+02 9.80000000e+00\n",
            "  2.25703125e-01]\n",
            " [1.00000000e+00 9.31506849e-02 3.60000000e+02 3.85000000e+00\n",
            "  2.17187500e-01]\n",
            " [1.00000000e+00 9.31506849e-02 3.65000000e+02 2.65000000e+00\n",
            "  2.14921875e-01]\n",
            " [1.00000000e+00 9.31506849e-02 3.70000000e+02 2.12000000e+00\n",
            "  2.26601563e-01]\n",
            " [1.00000000e+00 9.31506849e-02 3.75000000e+02 1.20000000e+00\n",
            "  2.14326172e-01]\n",
            " [1.00000000e+00 9.31506849e-02 3.80000000e+02 7.80000000e-01\n",
            "  2.14375000e-01]\n",
            " [1.00000000e+00 9.31506849e-02 3.85000000e+02 4.60000000e-01\n",
            "  2.11289063e-01]\n",
            " [1.00000000e+00 9.31506849e-02 3.90000000e+02 3.00000000e-01\n",
            "  2.13671875e-01]\n",
            " [1.00000000e+00 9.31506849e-02 3.95000000e+02 2.20000000e-01\n",
            "  2.20390625e-01]\n",
            " [1.00000000e+00 9.31506849e-02 4.00000000e+02 2.40000000e-01\n",
            "  2.40781250e-01]]\n"
          ],
          "name": "stdout"
        }
      ]
    },
    {
      "metadata": {
        "id": "Qci_2xfMs1S3",
        "colab_type": "code",
        "colab": {
          "base_uri": "https://localhost:8080/",
          "height": 283
        },
        "outputId": "044cb86d-6fda-448a-adc5-3f1decb324d1"
      },
      "cell_type": "code",
      "source": [
        "plt.plot(np_option_data42[:,2], np_option_data42[:,4], label = 'implied volatility')\n",
        "plt.ylabel('implied vol')\n",
        "plt.xlabel('strike')\n",
        "plt.legend();"
      ],
      "execution_count": 37,
      "outputs": [
        {
          "output_type": "display_data",
          "data": {
            "image/png": "[encoded data removed]",
            "text/plain": [
              "<Figure size 432x288 with 1 Axes>"
            ]
          },
          "metadata": {
            "tags": []
          }
        }
      ]
    },
    {
      "metadata": {
        "id": "Rwr3y4DUs5WK",
        "colab_type": "code",
        "colab": {
          "base_uri": "https://localhost:8080/",
          "height": 34
        },
        "outputId": "a81522d3-7aec-4e2c-aff4-66b61cd465d7"
      },
      "cell_type": "code",
      "source": [
        "calibrated_volatility4 = bsm_calibration(gbm1,option_list4)\n",
        "print('>>>>>>>> calibrated volatility for call is ' + str(calibrated_volatility4))"
      ],
      "execution_count": 38,
      "outputs": [
        {
          "output_type": "stream",
          "text": [
            ">>>>>>>> calibrated volatility for call is 0.24078125000000047\n"
          ],
          "name": "stdout"
        }
      ]
    },
    {
      "metadata": {
        "id": "P5nSQif7s8q-",
        "colab_type": "code",
        "colab": {
          "base_uri": "https://localhost:8080/",
          "height": 370
        },
        "outputId": "05b2d4dc-c1d2-449e-9413-2e8731a7865b"
      },
      "cell_type": "code",
      "source": [
        "gbm1.vol_ratio = calibrated_volatility4\n",
        "\n",
        "#find calibrated option price\n",
        "option_list4_calibrated_price = [bsm_price(gbm1,option_list4[i]) for i in range(len(option_list4))]\n",
        "print('>>>>>>>>> this is option price calculated from calibrated vol')\n",
        "option_list4_calibrated_price"
      ],
      "execution_count": 39,
      "outputs": [
        {
          "output_type": "stream",
          "text": [
            ">>>>>>>>> this is option price calculated from calibrated vol\n"
          ],
          "name": "stdout"
        },
        {
          "output_type": "execute_result",
          "data": {
            "text/plain": [
              "[55.59692565709986,\n",
              " 50.6730695329685,\n",
              " 45.79836622814514,\n",
              " 36.31264181925894,\n",
              " 31.77965949807907,\n",
              " 27.4492257415165,\n",
              " 23.371859657253566,\n",
              " 19.59589524728355,\n",
              " 16.162832402585195,\n",
              " 13.103168297430756,\n",
              " 10.433423845223302,\n",
              " 4.7042425363611216,\n",
              " 3.4702144144711298,\n",
              " 2.510226239968425,\n",
              " 1.7805999355578663,\n",
              " 1.2386837572060614,\n",
              " 0.8452206786651928,\n",
              " 0.5658439169958882,\n",
              " 0.37176037095449743,\n",
              " 0.2397784574833821]"
            ]
          },
          "metadata": {
            "tags": []
          },
          "execution_count": 39
        }
      ]
    },
    {
      "metadata": {
        "id": "1VtOSGC0tBYO",
        "colab_type": "code",
        "colab": {
          "base_uri": "https://localhost:8080/",
          "height": 283
        },
        "outputId": "d333a704-94e2-43f9-8b0e-6d7028061d72"
      },
      "cell_type": "code",
      "source": [
        "x_co = [option_list4[i].strike for i in range(len(option_list4))]\n",
        "y_co = [option_list4[i].market_price for i in range(len(option_list4))]\n",
        "plt.plot(x_co, y_co, label='market price')#not using 'o' here for observation purpose\n",
        "\n",
        "y_co = option_list4_calibrated_price\n",
        "plt.plot(x_co, y_co, label = 'calib price')\n",
        "\n",
        "plt.ylabel('option price')\n",
        "plt.xlabel('strike with fixed maturity')\n",
        "plt.legend();"
      ],
      "execution_count": 40,
      "outputs": [
        {
          "output_type": "display_data",
          "data": {
            "image/png": "[encoded data removed]",
            "text/plain": [
              "<Figure size 432x288 with 1 Axes>"
            ]
          },
          "metadata": {
            "tags": []
          }
        }
      ]
    },
    {
      "metadata": {
        "id": "ueNRyQBFtCZg",
        "colab_type": "code",
        "colab": {}
      },
      "cell_type": "code",
      "source": [
        ""
      ],
      "execution_count": 0,
      "outputs": []
    }
  ]
}